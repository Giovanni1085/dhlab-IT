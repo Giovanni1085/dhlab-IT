{
 "metadata": {
  "name": ""
 },
 "nbformat": 3,
 "nbformat_minor": 0,
 "worksheets": [
  {
   "cells": [
    {
     "cell_type": "markdown",
     "metadata": {},
     "source": [
      "# Multiprocessing example (by Benoit)\n",
      "\n",
      "This is just a small example of using `multiprocessing` `Pool` system for embarassingly parallel operations.\n",
      "\n",
      "Please refer to the main documentation of the system though for more insight about it."
     ]
    },
    {
     "cell_type": "code",
     "collapsed": false,
     "input": [
      "import multiprocessing as mp\n",
      "import pandas as pd\n",
      "import os\n",
      "import time"
     ],
     "language": "python",
     "metadata": {},
     "outputs": [],
     "prompt_number": 1
    },
    {
     "cell_type": "code",
     "collapsed": false,
     "input": [
      "dataset_root_folder = \"/mnt/homes/benoit/datasets/WGA\"\n",
      "dataset = pd.read_csv(os.path.join(dataset_root_folder,'index.csv'))\n",
      "to_be_computed = (dataset.is_color==True) & (dataset.width<2000) & (dataset.height<2000)\n",
      "img_paths = dataset[to_be_computed].path[:1000]\n",
      "absolute_paths = map(lambda x: os.path.join(dataset_root_folder,x),img_paths)"
     ],
     "language": "python",
     "metadata": {},
     "outputs": [],
     "prompt_number": 2
    },
    {
     "cell_type": "code",
     "collapsed": false,
     "input": [
      "def extract_img_shape(p):\n",
      "    try:\n",
      "        return plt.imread(p).shape\n",
      "    except Exception as detail:\n",
      "        print \"Exception for {} : {}\".format(p,detail)\n",
      "\n",
      "t = time.time()\n",
      "img_shapes = map(extract_img_shape,absolute_paths)\n",
      "print \"Single-threaded time : {}s\".format(time.time()-t)\n",
      "n_threads = 20\n",
      "my_pool = mp.Pool(n_threads)\n",
      "t = time.time()\n",
      "img_shapes = my_pool.map(extract_img_shape,absolute_paths)\n",
      "print \"Time to extract all shapes with {} threads : {}s\".format(n_threads, time.time()-t)"
     ],
     "language": "python",
     "metadata": {},
     "outputs": [
      {
       "output_type": "stream",
       "stream": "stdout",
       "text": [
        "Single-threaded time : 15.6924450397s\n"
       ]
      },
      {
       "output_type": "stream",
       "stream": "stdout",
       "text": [
        "Time to extract all shapes with 20 threads : 1.50803589821s\n"
       ]
      }
     ],
     "prompt_number": 3
    },
    {
     "cell_type": "code",
     "collapsed": false,
     "input": [
      "execution_times = list()\n",
      "n_threads_list = range(1,26)\n",
      "for n_threads in n_threads_list:\n",
      "    my_pool = mp.Pool(n_threads)\n",
      "    t = time.time()\n",
      "    img_shapes = my_pool.map(extract_img_shape,absolute_paths)\n",
      "    execution_time = time.time()-t\n",
      "    print \"Time to extract all shapes with {} threads : {}s\".format(n_threads, execution_time)\n",
      "    execution_times.append(execution_time)"
     ],
     "language": "python",
     "metadata": {},
     "outputs": [
      {
       "output_type": "stream",
       "stream": "stdout",
       "text": [
        "Time to extract all shapes with 1 threads : 14.3528969288s\n"
       ]
      },
      {
       "output_type": "stream",
       "stream": "stdout",
       "text": [
        "Time to extract all shapes with 2 threads : 7.06374192238s\n"
       ]
      },
      {
       "output_type": "stream",
       "stream": "stdout",
       "text": [
        "Time to extract all shapes with 3 threads : 4.88489413261s\n"
       ]
      },
      {
       "output_type": "stream",
       "stream": "stdout",
       "text": [
        "Time to extract all shapes with 4 threads : 3.79238200188s\n"
       ]
      },
      {
       "output_type": "stream",
       "stream": "stdout",
       "text": [
        "Time to extract all shapes with 5 threads : 3.40953707695s\n"
       ]
      },
      {
       "output_type": "stream",
       "stream": "stdout",
       "text": [
        "Time to extract all shapes with 6 threads : 3.29648685455s\n"
       ]
      },
      {
       "output_type": "stream",
       "stream": "stdout",
       "text": [
        "Time to extract all shapes with 7 threads : 2.65298485756s\n"
       ]
      },
      {
       "output_type": "stream",
       "stream": "stdout",
       "text": [
        "Time to extract all shapes with 8 threads : 2.28973412514s\n"
       ]
      },
      {
       "output_type": "stream",
       "stream": "stdout",
       "text": [
        "Time to extract all shapes with 9 threads : 2.24237704277s\n"
       ]
      },
      {
       "output_type": "stream",
       "stream": "stdout",
       "text": [
        "Time to extract all shapes with 10 threads : 2.02101993561s\n"
       ]
      },
      {
       "output_type": "stream",
       "stream": "stdout",
       "text": [
        "Time to extract all shapes with 11 threads : 1.94160103798s\n"
       ]
      },
      {
       "output_type": "stream",
       "stream": "stdout",
       "text": [
        "Time to extract all shapes with 12 threads : 1.90581297874s\n"
       ]
      },
      {
       "output_type": "stream",
       "stream": "stdout",
       "text": [
        "Time to extract all shapes with 13 threads : 1.8390648365s\n"
       ]
      },
      {
       "output_type": "stream",
       "stream": "stdout",
       "text": [
        "Time to extract all shapes with 14 threads : 1.69399094582s\n"
       ]
      },
      {
       "output_type": "stream",
       "stream": "stdout",
       "text": [
        "Time to extract all shapes with 15 threads : 1.69326996803s\n"
       ]
      },
      {
       "output_type": "stream",
       "stream": "stdout",
       "text": [
        "Time to extract all shapes with 16 threads : 1.62799119949s\n"
       ]
      },
      {
       "output_type": "stream",
       "stream": "stdout",
       "text": [
        "Time to extract all shapes with 17 threads : 1.58945202827s\n"
       ]
      },
      {
       "output_type": "stream",
       "stream": "stdout",
       "text": [
        "Time to extract all shapes with 18 threads : 1.54371500015s\n"
       ]
      },
      {
       "output_type": "stream",
       "stream": "stdout",
       "text": [
        "Time to extract all shapes with 19 threads : 1.55785489082s\n"
       ]
      },
      {
       "output_type": "stream",
       "stream": "stdout",
       "text": [
        "Time to extract all shapes with 20 threads : 1.54573917389s\n"
       ]
      },
      {
       "output_type": "stream",
       "stream": "stdout",
       "text": [
        "Time to extract all shapes with 21 threads : 1.48326992989s\n"
       ]
      },
      {
       "output_type": "stream",
       "stream": "stdout",
       "text": [
        "Time to extract all shapes with 22 threads : 1.48593497276s\n"
       ]
      },
      {
       "output_type": "stream",
       "stream": "stdout",
       "text": [
        "Time to extract all shapes with 23 threads : 1.48325681686s\n"
       ]
      },
      {
       "output_type": "stream",
       "stream": "stdout",
       "text": [
        "Time to extract all shapes with 24 threads : 1.47676205635s\n"
       ]
      },
      {
       "output_type": "stream",
       "stream": "stdout",
       "text": [
        "Time to extract all shapes with 25 threads : 1.44705295563s\n"
       ]
      }
     ],
     "prompt_number": 4
    },
    {
     "cell_type": "code",
     "collapsed": false,
     "input": [
      "plt.figure(figsize=(8,8))\n",
      "plt.plot(n_threads_list,execution_times[0]/np.array(execution_times),color='green')\n",
      "plt.xlabel('Nb threads')\n",
      "plt.ylabel('Speed-up')\n",
      "plt.grid()"
     ],
     "language": "python",
     "metadata": {},
     "outputs": [
      {
       "metadata": {},
       "output_type": "display_data",
       "png": "[encoded data removed]",
       "text": [
        "<matplotlib.figure.Figure at 0x7f4a96efdd10>"
       ]
      }
     ],
     "prompt_number": 5
    },
    {
     "cell_type": "code",
     "collapsed": false,
     "input": [
      "efficiency = execution_times[0]/(np.multiply(execution_times,n_threads_list))\n",
      "plt.figure(figsize=(8,8))\n",
      "plt.plot(n_threads_list,efficiency,color='red')\n",
      "plt.xlabel('Nb threads')\n",
      "plt.ylabel('Efficiency')\n",
      "plt.grid()"
     ],
     "language": "python",
     "metadata": {},
     "outputs": [
      {
       "metadata": {},
       "output_type": "display_data",
       "png": "[encoded data removed]",
       "text": [
        "<matplotlib.figure.Figure at 0x7f4a96efd8d0>"
       ]
      }
     ],
     "prompt_number": 6
    },
    {
     "cell_type": "code",
     "collapsed": false,
     "input": [
      "plt.hist(map(lambda x:x[1],img_shapes),bins=40,alpha=0.5)\n",
      "xlabel('width')\n",
      "ylabel('height')"
     ],
     "language": "python",
     "metadata": {},
     "outputs": [
      {
       "metadata": {},
       "output_type": "pyout",
       "prompt_number": 7,
       "text": [
        "<matplotlib.text.Text at 0x7f4a96897410>"
       ]
      },
      {
       "metadata": {},
       "output_type": "display_data",
       "png": "[encoded data removed]",
       "text": [
        "<matplotlib.figure.Figure at 0x7f4a9429a710>"
       ]
      }
     ],
     "prompt_number": 7
    },
    {
     "cell_type": "code",
     "collapsed": false,
     "input": [],
     "language": "python",
     "metadata": {},
     "outputs": []
    }
   ],
   "metadata": {}
  }
 ]
}